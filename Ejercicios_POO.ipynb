{
  "nbformat": 4,
  "nbformat_minor": 0,
  "metadata": {
    "colab": {
      "provenance": [],
      "authorship_tag": "ABX9TyPqbsWYNCSnlvpKFrQP/eXN",
      "include_colab_link": true
    },
    "kernelspec": {
      "name": "python3",
      "display_name": "Python 3"
    },
    "language_info": {
      "name": "python"
    }
  },
  "cells": [
    {
      "cell_type": "markdown",
      "metadata": {
        "id": "view-in-github",
        "colab_type": "text"
      },
      "source": [
        "<a href=\"https://colab.research.google.com/github/EstebanAgudeloR/Ejercicios---Programacion-Orientada-a-Objetos/blob/main/Ejercicios_POO.ipynb\" target=\"_parent\"><img src=\"https://colab.research.google.com/assets/colab-badge.svg\" alt=\"Open In Colab\"/></a>"
      ]
    },
    {
      "cell_type": "code",
      "execution_count": 8,
      "metadata": {
        "colab": {
          "base_uri": "https://localhost:8080/"
        },
        "id": "7Q7v3uYB0KMs",
        "outputId": "bc2b0044-abc8-4c40-cc89-23c5332e8506"
      },
      "outputs": [
        {
          "output_type": "stream",
          "name": "stdout",
          "text": [
            "Ingrese la edad de Juan :10\n",
            "Edad de Juan: 10.0\n",
            "Edad de Alber: 6.666666666666667\n",
            "Edad de Ana: 13.333333333333334\n",
            "Edad de Mamá: 30.0\n"
          ]
        }
      ],
      "source": [
        "# ejercicio 4 POO\n",
        "\n",
        "class Calculos:\n",
        "    @staticmethod\n",
        "    def calcular_edalber(edjuan: float) -> float:\n",
        "        edalber = 2 * (edjuan / 3)\n",
        "        return edalber\n",
        "\n",
        "    @staticmethod\n",
        "    def calcular_edana(edjuan: float) -> float:\n",
        "        edana = 4 * (edjuan / 3)\n",
        "        return edana\n",
        "\n",
        "    @staticmethod\n",
        "    def calcular_edmama(edjuan: float, edalber: float, edana: float) -> float:\n",
        "        edmama = edjuan + edalber + edana\n",
        "        return edmama\n",
        "\n",
        "\n",
        "\n",
        "# Definimos la edad de Juan\n",
        "edjuan = float(input(\"Ingrese la edad de Juan :\"))\n",
        "\n",
        "# Usamos los métodos de la clase\n",
        "edalber = Calculos.calcular_edalber(edjuan)\n",
        "edana = Calculos.calcular_edana(edjuan)\n",
        "edmama = Calculos.calcular_edmama(edjuan, edalber, edana)\n",
        "\n",
        "# Mostramos los resultados\n",
        "print(f\"Edad de Juan: {edjuan}\")\n",
        "print(f\"Edad de Alber: {edalber}\")\n",
        "print(f\"Edad de Ana: {edana}\")\n",
        "print(f\"Edad de Mamá: {edmama}\")"
      ]
    },
    {
      "cell_type": "code",
      "source": [
        "#Ejercicio 5\n",
        "\n",
        "import math\n",
        "\n",
        "class Calculos:\n",
        "    @staticmethod\n",
        "    def calcular_suma(suma: float, x: float) -> float:\n",
        "        resultado_suma = suma + x\n",
        "        return resultado_suma\n",
        "\n",
        "    @staticmethod\n",
        "    def calcular_x(y: float, x: float) -> float:\n",
        "        resultado_x = x + math.pow(y, 2)\n",
        "        return resultado_x\n",
        "\n",
        "\n",
        "# ==============================\n",
        "# Programa principal (equivalente al main en Java)\n",
        "# ==============================\n",
        "\n",
        "# Lectura de entrada desde teclado\n",
        "suma = float(input(\"Ingresa un número para suma: \"))\n",
        "x = float(input(\"Ingresa un número para x: \"))\n",
        "y = float(input(\"Ingresa un número para y: \"))\n",
        "\n",
        "# Llamada a los métodos de la clase\n",
        "suma = Calculos.calcular_suma(suma, x)\n",
        "x = Calculos.calcular_x(y, x)\n",
        "\n",
        "suma = suma + (x / y)\n",
        "\n",
        "print(f\"El valor de la suma es: {suma}\")\n",
        "\n",
        "\n",
        "\n"
      ],
      "metadata": {
        "colab": {
          "base_uri": "https://localhost:8080/",
          "height": 356
        },
        "id": "38633qyF0j72",
        "outputId": "82de12cc-bde3-4055-f19d-e781de2fe6a0"
      },
      "execution_count": 6,
      "outputs": [
        {
          "output_type": "error",
          "ename": "KeyboardInterrupt",
          "evalue": "Interrupted by user",
          "traceback": [
            "\u001b[0;31m---------------------------------------------------------------------------\u001b[0m",
            "\u001b[0;31mKeyboardInterrupt\u001b[0m                         Traceback (most recent call last)",
            "\u001b[0;32m/tmp/ipython-input-1121528056.py\u001b[0m in \u001b[0;36m<cell line: 0>\u001b[0;34m()\u001b[0m\n\u001b[1;32m     20\u001b[0m \u001b[0;34m\u001b[0m\u001b[0m\n\u001b[1;32m     21\u001b[0m \u001b[0;31m# Lectura de entrada desde teclado\u001b[0m\u001b[0;34m\u001b[0m\u001b[0;34m\u001b[0m\u001b[0m\n\u001b[0;32m---> 22\u001b[0;31m \u001b[0msuma\u001b[0m \u001b[0;34m=\u001b[0m \u001b[0mfloat\u001b[0m\u001b[0;34m(\u001b[0m\u001b[0minput\u001b[0m\u001b[0;34m(\u001b[0m\u001b[0;34m\"Ingresa un número para suma: \"\u001b[0m\u001b[0;34m)\u001b[0m\u001b[0;34m)\u001b[0m\u001b[0;34m\u001b[0m\u001b[0;34m\u001b[0m\u001b[0m\n\u001b[0m\u001b[1;32m     23\u001b[0m \u001b[0mx\u001b[0m \u001b[0;34m=\u001b[0m \u001b[0mfloat\u001b[0m\u001b[0;34m(\u001b[0m\u001b[0minput\u001b[0m\u001b[0;34m(\u001b[0m\u001b[0;34m\"Ingresa un número para x: \"\u001b[0m\u001b[0;34m)\u001b[0m\u001b[0;34m)\u001b[0m\u001b[0;34m\u001b[0m\u001b[0;34m\u001b[0m\u001b[0m\n\u001b[1;32m     24\u001b[0m \u001b[0my\u001b[0m \u001b[0;34m=\u001b[0m \u001b[0mfloat\u001b[0m\u001b[0;34m(\u001b[0m\u001b[0minput\u001b[0m\u001b[0;34m(\u001b[0m\u001b[0;34m\"Ingresa un número para y: \"\u001b[0m\u001b[0;34m)\u001b[0m\u001b[0;34m)\u001b[0m\u001b[0;34m\u001b[0m\u001b[0;34m\u001b[0m\u001b[0m\n",
            "\u001b[0;32m/usr/local/lib/python3.12/dist-packages/ipykernel/kernelbase.py\u001b[0m in \u001b[0;36mraw_input\u001b[0;34m(self, prompt)\u001b[0m\n\u001b[1;32m   1175\u001b[0m                 \u001b[0;34m\"raw_input was called, but this frontend does not support input requests.\"\u001b[0m\u001b[0;34m\u001b[0m\u001b[0;34m\u001b[0m\u001b[0m\n\u001b[1;32m   1176\u001b[0m             )\n\u001b[0;32m-> 1177\u001b[0;31m         return self._input_request(\n\u001b[0m\u001b[1;32m   1178\u001b[0m             \u001b[0mstr\u001b[0m\u001b[0;34m(\u001b[0m\u001b[0mprompt\u001b[0m\u001b[0;34m)\u001b[0m\u001b[0;34m,\u001b[0m\u001b[0;34m\u001b[0m\u001b[0;34m\u001b[0m\u001b[0m\n\u001b[1;32m   1179\u001b[0m             \u001b[0mself\u001b[0m\u001b[0;34m.\u001b[0m\u001b[0m_parent_ident\u001b[0m\u001b[0;34m[\u001b[0m\u001b[0;34m\"shell\"\u001b[0m\u001b[0;34m]\u001b[0m\u001b[0;34m,\u001b[0m\u001b[0;34m\u001b[0m\u001b[0;34m\u001b[0m\u001b[0m\n",
            "\u001b[0;32m/usr/local/lib/python3.12/dist-packages/ipykernel/kernelbase.py\u001b[0m in \u001b[0;36m_input_request\u001b[0;34m(self, prompt, ident, parent, password)\u001b[0m\n\u001b[1;32m   1217\u001b[0m             \u001b[0;32mexcept\u001b[0m \u001b[0mKeyboardInterrupt\u001b[0m\u001b[0;34m:\u001b[0m\u001b[0;34m\u001b[0m\u001b[0;34m\u001b[0m\u001b[0m\n\u001b[1;32m   1218\u001b[0m                 \u001b[0;31m# re-raise KeyboardInterrupt, to truncate traceback\u001b[0m\u001b[0;34m\u001b[0m\u001b[0;34m\u001b[0m\u001b[0m\n\u001b[0;32m-> 1219\u001b[0;31m                 \u001b[0;32mraise\u001b[0m \u001b[0mKeyboardInterrupt\u001b[0m\u001b[0;34m(\u001b[0m\u001b[0;34m\"Interrupted by user\"\u001b[0m\u001b[0;34m)\u001b[0m \u001b[0;32mfrom\u001b[0m \u001b[0;32mNone\u001b[0m\u001b[0;34m\u001b[0m\u001b[0;34m\u001b[0m\u001b[0m\n\u001b[0m\u001b[1;32m   1220\u001b[0m             \u001b[0;32mexcept\u001b[0m \u001b[0mException\u001b[0m\u001b[0;34m:\u001b[0m\u001b[0;34m\u001b[0m\u001b[0;34m\u001b[0m\u001b[0m\n\u001b[1;32m   1221\u001b[0m                 \u001b[0mself\u001b[0m\u001b[0;34m.\u001b[0m\u001b[0mlog\u001b[0m\u001b[0;34m.\u001b[0m\u001b[0mwarning\u001b[0m\u001b[0;34m(\u001b[0m\u001b[0;34m\"Invalid Message:\"\u001b[0m\u001b[0;34m,\u001b[0m \u001b[0mexc_info\u001b[0m\u001b[0;34m=\u001b[0m\u001b[0;32mTrue\u001b[0m\u001b[0;34m)\u001b[0m\u001b[0;34m\u001b[0m\u001b[0;34m\u001b[0m\u001b[0m\n",
            "\u001b[0;31mKeyboardInterrupt\u001b[0m: Interrupted by user"
          ]
        }
      ]
    },
    {
      "cell_type": "code",
      "source": [
        "#Ejercicio12\n",
        "\n",
        "class Calculos:\n",
        "    @staticmethod\n",
        "    def calcular_salario_bruto(horas_laboradas, valor_hora):\n",
        "        return horas_laboradas * valor_hora\n",
        "\n",
        "    @staticmethod\n",
        "    def calcular_porcentaje_retencion(retencion):\n",
        "        return retencion / 100\n",
        "\n",
        "    @staticmethod\n",
        "    def calcular_valor_retencion_fuente(porcentaje_retencion, salario_bruto):\n",
        "        return porcentaje_retencion * salario_bruto\n",
        "\n",
        "    @staticmethod\n",
        "    def calcular_salario_neto(salario_bruto, valor_retencion_fuente):\n",
        "        return salario_bruto - valor_retencion_fuente\n",
        "\n",
        "\n",
        "if __name__ == \"__main__\":\n",
        "    horas_trabajadas = float(input(\"Ingresa las horas trabajadas: \"))\n",
        "    valor_hora = float(input(\"Ingresa el valor por hora: \"))\n",
        "    retencion = float(input(\"Ingresa el valor de la retención (%): \"))\n",
        "\n",
        "    salario_bruto = Calculos.calcular_salario_bruto(horas_trabajadas, valor_hora)\n",
        "    porcentaje_retencion = Calculos.calcular_porcentaje_retencion(retencion)\n",
        "    valor_retencion_fuente = Calculos.calcular_valor_retencion_fuente(porcentaje_retencion, salario_bruto)\n",
        "    salario_neto = Calculos.calcular_salario_neto(salario_bruto, valor_retencion_fuente)\n",
        "\n",
        "    print(f\"El salario bruto es: {salario_bruto}\")\n",
        "    print(f\"Valor retención en la fuente: {valor_retencion_fuente}\")\n",
        "    print(f\"Salario neto: {salario_neto}\")"
      ],
      "metadata": {
        "id": "2-G72Z7EWvO1",
        "colab": {
          "base_uri": "https://localhost:8080/"
        },
        "outputId": "59436304-cd95-4edc-abba-b700a3402f1d"
      },
      "execution_count": 12,
      "outputs": [
        {
          "output_type": "stream",
          "name": "stdout",
          "text": [
            "Ingresa las horas trabajadas: 23\n",
            "Ingresa el valor por hora: 123\n",
            "Ingresa el valor de la retención (%): 43\n",
            "El salario bruto es: 2829.0\n",
            "Valor retención en la fuente: 1216.47\n",
            "Salario neto: 1612.53\n"
          ]
        }
      ]
    },
    {
      "cell_type": "code",
      "source": [
        "class Calculos:\n",
        "    @staticmethod\n",
        "    def calcular_cuadrado(numero):\n",
        "        return numero ** 2\n",
        "\n",
        "    @staticmethod\n",
        "    def calcular_cubo(numero):\n",
        "        return numero ** 3\n",
        "\n",
        "\n",
        "if __name__ == \"__main__\":\n",
        "    numero = float(input(\"Ingresa un número: \"))\n",
        "\n",
        "    cuadrado = Calculos.calcular_cuadrado(numero)\n",
        "    cubo = Calculos.calcular_cubo(numero)\n",
        "\n",
        "    print(f\"Número: {numero}\")\n",
        "    print(f\"Cuadrado: {cuadrado}\")\n",
        "    print(f\"Cubo: {cubo}\")"
      ],
      "metadata": {
        "colab": {
          "base_uri": "https://localhost:8080/"
        },
        "id": "0PhA2UDFYOcr",
        "outputId": "cdab7b61-4e95-45f3-cf1c-8f3a675cc0f3"
      },
      "execution_count": 13,
      "outputs": [
        {
          "output_type": "stream",
          "name": "stdout",
          "text": [
            "Ingresa un número: 2\n",
            "Número: 2.0\n",
            "Cuadrado: 4.0\n",
            "Cubo: 8.0\n"
          ]
        }
      ]
    },
    {
      "cell_type": "code",
      "source": [
        "import math\n",
        "\n",
        "class Calculos:\n",
        "    @staticmethod\n",
        "    def calcular_longitud(radio):\n",
        "        return 2 * math.pi * radio\n",
        "\n",
        "    @staticmethod\n",
        "    def calcular_area(radio):\n",
        "        return math.pi * (radio ** 2)\n",
        "\n",
        "\n",
        "if __name__ == \"__main__\":\n",
        "    radio = float(input(\"Ingrese el valor del radio: \"))\n",
        "\n",
        "    longitud = Calculos.calcular_longitud(radio)\n",
        "    area = Calculos.calcular_area(radio)\n",
        "\n",
        "    print(f\"Radio: {radio}\")\n",
        "    print(f\"Longitud: {longitud}\")\n",
        "    print(f\"Área: {area}\")"
      ],
      "metadata": {
        "colab": {
          "base_uri": "https://localhost:8080/"
        },
        "id": "DnLgDCsBY4Kl",
        "outputId": "dae60b0e-258b-4ccc-d057-21d41a6c8382"
      },
      "execution_count": 14,
      "outputs": [
        {
          "output_type": "stream",
          "name": "stdout",
          "text": [
            "Ingrese el valor del radio: 1\n",
            "Radio: 1.0\n",
            "Longitud: 6.283185307179586\n",
            "Área: 3.141592653589793\n"
          ]
        }
      ]
    }
  ]
}